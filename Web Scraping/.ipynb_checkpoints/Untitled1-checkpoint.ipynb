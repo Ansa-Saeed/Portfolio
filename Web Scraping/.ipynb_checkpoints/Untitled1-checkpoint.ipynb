{
 "cells": [
  {
   "cell_type": "code",
   "execution_count": 20,
   "id": "89a595e3",
   "metadata": {},
   "outputs": [
    {
     "name": "stdout",
     "output_type": "stream",
     "text": [
      "Title: Harry Potter and the Sorcerer's Stone\n",
      "Year: 2001\n",
      "Genres: Adventure, Family, Fantasy\n",
      "Director(s): Chris Columbus\n",
      "Writer(s): J.K. Rowling, Steve Kloves\n",
      "Runtime: 152 minutes\n",
      "Rating: 7.6\n"
     ]
    }
   ],
   "source": [
    "import imdb\n",
    "# Create an instance of the IMDb class\n",
    "ia = imdb.IMDb()\n",
    "# Search for a movie by title\n",
    "movie_title = \"Harry Potter\"\n",
    "movies = ia.search_movie(movie_title)\n",
    "if movies:\n",
    "    movie = movies[0]\n",
    "    # Fetch the movie details\n",
    "    ia.update(movie)\n",
    "    print(f\"Title: {movie['title']}\")\n",
    "    print(f\"Year: {movie['year']}\")\n",
    "    print(f\"Genres: {', '.join(movie['genres'])}\")\n",
    "    directors = movie.get('directors')\n",
    "    if directors:\n",
    "        print(f\"Director(s): {', '.join(director['name'] for director in directors)}\")\n",
    "    writers = movie.get('writers')\n",
    "    if writers:\n",
    "        writer_names = []\n",
    "        for writer in writers:\n",
    "            writer_name = writer.get('name')\n",
    "            if writer_name:\n",
    "                writer_names.append(writer_name)\n",
    "        print(f\"Writer(s): {', '.join(writer_names)}\")\n",
    "    runtime = movie.get('runtimes')\n",
    "    if runtime:\n",
    "        print(f\"Runtime: {runtime[0]} minutes\")\n",
    "    rating = movie.get('rating')\n",
    "    if rating:\n",
    "        print(f\"Rating: {rating}\")"
   ]
  },
  {
   "cell_type": "code",
   "execution_count": 42,
   "id": "ce5c1d72",
   "metadata": {},
   "outputs": [],
   "source": [
    "import requests\n",
    "from bs4 import BeautifulSoup\n",
    "\n",
    "start_url = 'https://www.imdb.com/title/tt0270846/reviews?ref_=tt_urv'\n",
    "link = 'https://www.imdb.com/title/tt0270846/reviews/_ajax'\n",
    "\n",
    "params = {\n",
    "    'ref_': 'undefined',\n",
    "    'paginationKey': ''\n",
    "}\n",
    "review=[]\n",
    "with requests.Session() as s:\n",
    "    s.headers['User-Agent'] = 'Mozilla/5.0 (Windows NT 6.1) AppleWebKit/537.36 (KHTML, like Gecko) Chrome/88.0.4324.150 Safari/537.36'\n",
    "    res = s.get(start_url)\n",
    "    \n",
    "    while True:\n",
    "        soup = BeautifulSoup(res.text,\"lxml\")\n",
    "        for item in soup.select(\".review-container\"):\n",
    "            reviewer_name = item.select_one(\"a\").get_text(strip=True)\n",
    "            review.append(reviewer_name)\n",
    "\n",
    "        try:\n",
    "            pagination_key = soup.select_one(\".load-more-data[data-key]\").get(\"data-key\")\n",
    "        except AttributeError:\n",
    "            break\n",
    "        params['paginationKey'] = pagination_key\n",
    "        res = s.get(link,params=params)"
   ]
  },
  {
   "cell_type": "code",
   "execution_count": 43,
   "id": "282ec9bc",
   "metadata": {},
   "outputs": [],
   "source": [
    "from textblob import TextBlob\n",
    "sentiment_scores = []\n",
    "for reviews in review:\n",
    "    blob = TextBlob(reviews)\n",
    "    sentiment_score = blob.sentiment.polarity\n",
    "    sentiment_scores.append(sentiment_score)\n",
    "\n",
    "# Aggregate the sentiment scores\n",
    "aggregate_sentiment = sum(sentiment_scores) / len(sentiment_scores)\n",
    "\n",
    "# Determine if the overall sentiment is positive or negative\n",
    "overall_sentiment = \"Positive\" if aggregate_sentiment >= 0.1 else \"Negative\""
   ]
  },
  {
   "cell_type": "code",
   "execution_count": null,
   "id": "bd53c475",
   "metadata": {},
   "outputs": [],
   "source": []
  },
  {
   "cell_type": "code",
   "execution_count": null,
   "id": "04fbd164",
   "metadata": {},
   "outputs": [],
   "source": []
  },
  {
   "cell_type": "code",
   "execution_count": null,
   "id": "675f1e11",
   "metadata": {},
   "outputs": [],
   "source": []
  },
  {
   "cell_type": "code",
   "execution_count": null,
   "id": "08d3d680",
   "metadata": {},
   "outputs": [],
   "source": []
  }
 ],
 "metadata": {
  "kernelspec": {
   "display_name": "Python 3 (ipykernel)",
   "language": "python",
   "name": "python3"
  },
  "language_info": {
   "codemirror_mode": {
    "name": "ipython",
    "version": 3
   },
   "file_extension": ".py",
   "mimetype": "text/x-python",
   "name": "python",
   "nbconvert_exporter": "python",
   "pygments_lexer": "ipython3",
   "version": "3.9.13"
  }
 },
 "nbformat": 4,
 "nbformat_minor": 5
}
