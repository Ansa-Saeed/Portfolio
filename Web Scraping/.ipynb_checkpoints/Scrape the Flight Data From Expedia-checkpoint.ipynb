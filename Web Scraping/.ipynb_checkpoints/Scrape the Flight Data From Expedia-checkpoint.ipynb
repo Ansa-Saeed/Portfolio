{
 "cells": [
  {
   "cell_type": "code",
   "execution_count": 3,
   "id": "debda385",
   "metadata": {
    "scrolled": true
   },
   "outputs": [
    {
     "name": "stdout",
     "output_type": "stream",
     "text": [
      "Please enter if your fill the captacha\n"
     ]
    }
   ],
   "source": [
    "# Import Libraries\n",
    "from selenium import webdriver\n",
    "from selenium.webdriver.common.by import By\n",
    "from selenium.webdriver.support.ui import WebDriverWait\n",
    "from selenium.webdriver.support import expected_conditions as EC\n",
    "from selenium.webdriver.common.keys import Keys\n",
    "from bs4 import BeautifulSoup\n",
    "from selenium.webdriver.common.action_chains import ActionChains\n",
    "import time\n",
    "driver = webdriver.Firefox()  \n",
    "driver.get(\"https://www.expedia.com/\")\n",
    "wait = WebDriverWait(driver, 60)\n",
    "# Automatic expedia form fill\n",
    "flights_tab = wait.until(EC.element_to_be_clickable((By.XPATH, \"//a[contains(@href, 'wizard-flight-pwa')]\")))\n",
    "flights_tab.click()\n",
    "leaving=wait.until(EC.element_to_be_clickable((By.XPATH, \"//button[@data-stid='location-field-leg1-origin-menu-trigger']\")))\n",
    "leaving.click() \n",
    "leaving_input=wait.until(EC.presence_of_element_located((By.CSS_SELECTOR, \"input[data-stid='location-field-leg1-origin-menu-input']\")))\n",
    "leaving_input.send_keys('Lahore, Pakistan')\n",
    "leaving_input.send_keys(Keys.ENTER)\n",
    "going=wait.until(EC.element_to_be_clickable((By.XPATH, \"//button[@data-stid='location-field-leg1-destination-menu-trigger']\")))\n",
    "going.click()\n",
    "going_input=wait.until(EC.presence_of_element_located((By.CSS_SELECTOR, \"input[data-stid='location-field-leg1-destination-menu-input']\")))\n",
    "going_input.send_keys('Dubai')\n",
    "going_input.send_keys(Keys.ENTER)\n",
    "wait.until(EC.invisibility_of_element_located((By.CSS_SELECTOR, \"div.uitk-spacing.uitk-typeahead-results.uitk-spacing-padding-blockstart-three\")))\n",
    "search_button = wait.until(EC.element_to_be_clickable((By.CSS_SELECTOR, \"button[data-testid='submit-button']\")))\n",
    "search_button.click()\n",
    "WebDriverWait(driver,10)\n",
    "# Manually verify Human or not?\n",
    "input(\"Please enter if your fill the captacha\")\n",
    "show_more = wait.until(EC.element_to_be_clickable((By.XPATH, \"//button[@data-test-id='show-more-button']\")))\n",
    "show_more.click()\n",
    "time.sleep(4)\n",
    "page=driver.page_source\n",
    "# get the current page source\n",
    "soup=BeautifulSoup(page, 'html.parser')"
   ]
  },
  {
   "cell_type": "code",
   "execution_count": 23,
   "id": "2ac2bc44",
   "metadata": {},
   "outputs": [],
   "source": [
    "# Extract the Data\n",
    "lst=soup.find_all(\"li\",{\"data-test-id\":\"offer-listing\"})\n",
    "arrival_time=[]\n",
    "Journey_duration=[]\n",
    "airline_info=[]\n",
    "price=[]\n",
    "stop_time=[]\n",
    "for i in lst:\n",
    "    arrive=i.find(\"div\",{\"data-test-id\":\"arrival-time\"})\n",
    "    arrival_time.append(arrive.find(\"span\").text)\n",
    "    Journey_duration.append(i.find(\"div\",{\"data-test-id\":\"journey-duration\"}).text)\n",
    "    airline_info.append(i.find(\"div\",{\"data-test-id\":\"flight-operated\"}).text)\n",
    "    price.append(i.find(\"span\",\"uitk-price-a11y is-visually-hidden\").text)\n",
    "    stop=i.find(\"div\",{\"data-test-id\":\"layovers\"})\n",
    "    if stop:\n",
    "        stop_time.append(stop.text)\n",
    "    else:\n",
    "        stop_time.append(\"No-Stop\")"
   ]
  },
  {
   "cell_type": "code",
   "execution_count": 24,
   "id": "c15802fb",
   "metadata": {},
   "outputs": [],
   "source": [
    "# Create Dataset\n",
    "import pandas as pd\n",
    "df=pd.DataFrame(list(zip(airline_info,arrival_time,Journey_duration,price,stop_time)),columns=[\"AirLine_Info\",\"Arrival_Time\",\"Journey_Duration\",\"Price\",\"Stop_Time\"])"
   ]
  },
  {
   "cell_type": "code",
   "execution_count": 26,
   "id": "c606bc1f",
   "metadata": {},
   "outputs": [],
   "source": [
    "# Save the dataset\n",
    "df.to_csv(\"LHR-Dubai(july 20-july 21).csv\")"
   ]
  },
  {
   "cell_type": "code",
   "execution_count": null,
   "id": "d0aae1f1",
   "metadata": {},
   "outputs": [],
   "source": []
  }
 ],
 "metadata": {
  "kernelspec": {
   "display_name": "Python 3 (ipykernel)",
   "language": "python",
   "name": "python3"
  },
  "language_info": {
   "codemirror_mode": {
    "name": "ipython",
    "version": 3
   },
   "file_extension": ".py",
   "mimetype": "text/x-python",
   "name": "python",
   "nbconvert_exporter": "python",
   "pygments_lexer": "ipython3",
   "version": "3.9.13"
  }
 },
 "nbformat": 4,
 "nbformat_minor": 5
}
